{
 "cells": [
  {
   "cell_type": "markdown",
   "metadata": {},
   "source": [
    "## Describing the proplem "
   ]
  },
  {
   "cell_type": "markdown",
   "metadata": {},
   "source": [
    "Is it possible to learn about the character of a city according to its venues data? Or by the diversity of the types of venues in it, or the difference in venues across different neighborhoods? If a businessman wants to open a coffee shop, where will it be more profitable, in Toronto or New York? And in which neighborhood? What will you recommend to a tourist who likes to spend time in cafes or theater, for example,  going to  New York or Toronto? These are all questions that I will try to answer at least partially in this project.\n",
    "My suggestion is to look at the differences between New York and Toronto, Both cities are very diverse and are the financial capitals of their respective countries. The difference in the nature of those cities may be reflected in the prevalence of venue categories in different neighborhoods in the city. A better understanding of the differences in the venues may give a broader picture of the city to both, businesses looking to open a  business and travelers looking for a tourist destination that fits their wish. "
   ]
  },
  {
   "cell_type": "markdown",
   "metadata": {},
   "source": [
    "## Data to be used"
   ]
  },
  {
   "cell_type": "markdown",
   "metadata": {},
   "source": [
    "I will use the location (Longitude and Latitude) by Postal Code of the both cities and neighborhoods, and the Foursquare venue category data in their neighborhoods, to explore for the venues categories that are most frequent in both cities and neighborhoods. "
   ]
  },
  {
   "cell_type": "code",
   "execution_count": null,
   "metadata": {},
   "outputs": [],
   "source": []
  }
 ],
 "metadata": {
  "kernelspec": {
   "display_name": "Python 3",
   "language": "python",
   "name": "python3"
  },
  "language_info": {
   "codemirror_mode": {
    "name": "ipython",
    "version": 3
   },
   "file_extension": ".py",
   "mimetype": "text/x-python",
   "name": "python",
   "nbconvert_exporter": "python",
   "pygments_lexer": "ipython3",
   "version": "3.7.4"
  }
 },
 "nbformat": 4,
 "nbformat_minor": 2
}
